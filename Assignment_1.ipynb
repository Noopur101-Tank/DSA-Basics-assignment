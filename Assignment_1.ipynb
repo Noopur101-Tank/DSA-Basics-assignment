{
 "cells": [
  {
   "cell_type": "markdown",
   "id": "5d646040",
   "metadata": {},
   "source": [
    "Q1. Write a program to find all pairs of an integer array whose sum is equal to a given number?"
   ]
  },
  {
   "cell_type": "code",
   "execution_count": 4,
   "id": "61cbced4",
   "metadata": {},
   "outputs": [
    {
     "name": "stdout",
     "output_type": "stream",
     "text": [
      "Enter a list of numbers separated by spaces:2 4 5 6 7 8 9 \n",
      "Enter the target sum:11\n",
      "[(2, 9), (4, 7), (5, 6)]\n"
     ]
    }
   ],
   "source": [
    "def find_pairs(arr,target_sum):\n",
    "    pairs = []\n",
    "    for i in range(len(arr)):\n",
    "        for j in range(i+1,len(arr)):\n",
    "            if arr[i] + arr[j] == target_sum:\n",
    "                pairs.append((arr[i],arr[j]))\n",
    "    return pairs\n",
    "\n",
    "arr=[int(num)for num in input(\"Enter a list of numbers separated by spaces:\").split()]\n",
    "target_sum=int(input(\"Enter the target sum:\"))\n",
    "result=find_pairs(arr,target_sum)\n",
    "print(result)"
   ]
  },
  {
   "cell_type": "markdown",
   "id": "2caf89f1",
   "metadata": {},
   "source": [
    "Q2. Write a program to reverse an array in place? In place means you cannot create a new array. You have to update the original array."
   ]
  },
  {
   "cell_type": "code",
   "execution_count": 6,
   "id": "9c463b6f",
   "metadata": {},
   "outputs": [
    {
     "name": "stdout",
     "output_type": "stream",
     "text": [
      "Enter elements of the array separated by spaces:2 3 7 8 3 9 6\n",
      "rev_arr: [6, 9, 3, 8, 7, 3, 2]\n"
     ]
    }
   ],
   "source": [
    "def rev_array(arr):\n",
    "    start = 0\n",
    "    end = len(arr)-1\n",
    "    \n",
    "    while start < end:\n",
    "        arr[start],arr[end] = arr[end],arr[start]\n",
    "        start += 1\n",
    "        end -= 1\n",
    "        \n",
    "u_input=input(\"Enter elements of the array separated by spaces:\")\n",
    "ori_arr=[int(x) for x in u_input.split()]\n",
    "rev_array(ori_arr)\n",
    "print(\"rev_arr:\",ori_arr)"
   ]
  },
  {
   "cell_type": "markdown",
   "id": "05b12d82",
   "metadata": {},
   "source": [
    "Q3. Write a program to check if two strings are a rotation of each other?"
   ]
  },
  {
   "cell_type": "code",
   "execution_count": 7,
   "id": "b893915c",
   "metadata": {},
   "outputs": [
    {
     "name": "stdout",
     "output_type": "stream",
     "text": [
      "Enter the first string: python\n",
      "Enter the second string: python\n",
      "True\n"
     ]
    }
   ],
   "source": [
    "def is_rotation(str1,str2):\n",
    "    if len(str1) != len(str2):\n",
    "        return False\n",
    "    \n",
    "    temp = str1 + str1\n",
    "    if str2 in temp:\n",
    "        return True\n",
    "    else:\n",
    "        return False\n",
    "str1=input(\"Enter the first string: \")\n",
    "str2=input(\"Enter the second string: \")\n",
    "print(is_rotation(str1,str2))"
   ]
  },
  {
   "cell_type": "markdown",
   "id": "5ddeeb49",
   "metadata": {},
   "source": [
    "Q4. Write a program to print the first non-repeated character from a string?"
   ]
  },
  {
   "cell_type": "code",
   "execution_count": 8,
   "id": "1d336f53",
   "metadata": {},
   "outputs": [
    {
     "name": "stdout",
     "output_type": "stream",
     "text": [
      "Enter the string:do your best\n",
      "First non-repeating character: d\n"
     ]
    }
   ],
   "source": [
    "def to_find(s):\n",
    "    for i in s:\n",
    "        if s.count(i)==1:\n",
    "            return i\n",
    "    return -1\n",
    "s_input=input(\"Enter the string:\")\n",
    "result = to_find(s_input)\n",
    "if result != -1:\n",
    "    print(f\"First non-repeating character: {result}\")\n",
    "else:\n",
    "    print(\"Not found any repeat character\")"
   ]
  },
  {
   "cell_type": "markdown",
   "id": "22299c0b",
   "metadata": {},
   "source": [
    "Q5. Read about the Tower of Hanoi algorithm. Write a program to implement it."
   ]
  },
  {
   "cell_type": "code",
   "execution_count": 9,
   "id": "c05a02e5",
   "metadata": {
    "scrolled": true
   },
   "outputs": [
    {
     "name": "stdout",
     "output_type": "stream",
     "text": [
      "Enter the number of disks: 4\n",
      "Move disk from A to B\n",
      "Move disk 2) from A to C\n",
      "Move disk from B to C\n",
      "Move disk 3) from A to B\n",
      "Move disk from C to A\n",
      "Move disk 2) from C to B\n",
      "Move disk from A to B\n",
      "Move disk 4) from A to C\n",
      "Move disk from B to C\n",
      "Move disk 2) from B to A\n",
      "Move disk from C to A\n",
      "Move disk 3) from B to C\n",
      "Move disk from A to B\n",
      "Move disk 2) from A to C\n",
      "Move disk from B to C\n"
     ]
    }
   ],
   "source": [
    "def tower_of_hanoi(n,source,auxiliary,target):\n",
    "    if n==1:\n",
    "        print(f\"Move disk from {source} to {target}\")\n",
    "        return\n",
    "    tower_of_hanoi(n-1,source,target,auxiliary)\n",
    "    print(f\"Move disk {n}) from {source} to {target}\")\n",
    "    tower_of_hanoi(n-1,auxiliary,source,target)\n",
    "    \n",
    "n = int(input(\"Enter the number of disks: \"))\n",
    "tower_of_hanoi(n,'A','B','C')\n",
    "          "
   ]
  },
  {
   "cell_type": "markdown",
   "id": "46cfb694",
   "metadata": {},
   "source": [
    "Q6. Read about infix, prefix, and postfix expressions. Write a program to convert postfix to prefix expression."
   ]
  },
  {
   "cell_type": "code",
   "execution_count": 12,
   "id": "a2f32014",
   "metadata": {},
   "outputs": [
    {
     "name": "stdout",
     "output_type": "stream",
     "text": [
      "Enter a postfix expression:22+\n",
      "Prefix Expression: +22\n"
     ]
    }
   ],
   "source": [
    "def post_to_pre(postfix_expr):\n",
    "    stack = []\n",
    "    operators = set([\"+\",\"-\",\"*\",\"/\"])\n",
    "    for char in postfix_expr:\n",
    "        if char not in operators:\n",
    "            stack.append(char)\n",
    "        else:\n",
    "            right_operand = stack.pop()\n",
    "            left_operand = stack.pop()\n",
    "            prefix_expr = char + left_operand + right_operand\n",
    "    stack.append(prefix_expr)\n",
    "    return stack[0]\n",
    "\n",
    "postfix_expr = input(\"Enter a postfix expression:\")\n",
    "prefix_expr = post_to_pre(postfix_expr)\n",
    "\n",
    "print(\"Prefix Expression:\",prefix_expr)"
   ]
  },
  {
   "cell_type": "markdown",
   "id": "7f4c51a8",
   "metadata": {},
   "source": [
    "Q7. Write a program to convert prefix expression to infix expression."
   ]
  },
  {
   "cell_type": "code",
   "execution_count": 16,
   "id": "7ddbc24f",
   "metadata": {},
   "outputs": [
    {
     "name": "stdout",
     "output_type": "stream",
     "text": [
      "Enter a prefix expression:*+AB-CD\n",
      "Infix expression:  ((A+B)*(C-D))\n"
     ]
    }
   ],
   "source": [
    "def is_operator(char):\n",
    "    return char in \"+-*/^\"\n",
    "def prefix_to_infix(expression):\n",
    "    stack = []\n",
    "    operators = set(\"+-*/^\")\n",
    "    \n",
    "    for char in reversed(expression):\n",
    "        if char.isalnum():\n",
    "            stack.append(char)\n",
    "        else:\n",
    "            operand1 = stack.pop()\n",
    "            operand2 = stack.pop()\n",
    "            infix_expr = f\"({operand1}{char}{operand2})\"\n",
    "            stack.append(infix_expr)\n",
    "            \n",
    "    if len(stack) == 1:\n",
    "        return stack[0]\n",
    "    else:\n",
    "        raise ValueError (\"Invalid prefix expr\")\n",
    "\n",
    "prefix_expr = input(\"Enter a prefix expression:\")\n",
    "infix_expr = prefix_to_infix(prefix_expr)\n",
    "print(\"Infix expression: \",infix_expr)"
   ]
  },
  {
   "cell_type": "markdown",
   "id": "1e44ad11",
   "metadata": {},
   "source": [
    "Q8. Write a program to check if all the brackets are closed in a given code snippet."
   ]
  },
  {
   "cell_type": "code",
   "execution_count": 17,
   "id": "3ca30098",
   "metadata": {},
   "outputs": [
    {
     "name": "stdout",
     "output_type": "stream",
     "text": [
      "Enter the brackets: {[()]}\n",
      "Yes all brackets are properly closed \n"
     ]
    }
   ],
   "source": [
    "def brackets(expr):\n",
    "    stack = []\n",
    "    for char in expr:\n",
    "        if char in [\"(\",\"{\",\"[\"]:\n",
    "            stack.append(char)\n",
    "        else:\n",
    "            if not stack:\n",
    "                return False\n",
    "            current_char=stack.pop()\n",
    "            if current_char==\"(\":\n",
    "                 if char != \")\":\n",
    "                    return False\n",
    "            if current_char==\"{\":\n",
    "                 if char != \"}\":\n",
    "                    return False\n",
    "            if current_char==\"[\":\n",
    "                 if char != \"]\":\n",
    "                    return False\n",
    "    return len(stack) == 0\n",
    "\n",
    "u_input = input(\"Enter the brackets: \")\n",
    "\n",
    "if brackets(u_input):\n",
    "    print(\"Yes all brackets are properly closed \")\n",
    "else:\n",
    "    print(\"No not all brackets are properly closed \")"
   ]
  },
  {
   "cell_type": "markdown",
   "id": "b0d0f143",
   "metadata": {},
   "source": [
    "Q9. Write a program to reverse a stack."
   ]
  },
  {
   "cell_type": "code",
   "execution_count": 20,
   "id": "d27013f1",
   "metadata": {},
   "outputs": [
    {
     "name": "stdout",
     "output_type": "stream",
     "text": [
      "Enter elements for the stack (space-separated): 22 44 60 55 88\n",
      "Original Stack: [22, 44, 60, 55, 88]\n",
      "Reversed Stack: [88, 55, 60, 44, 22]\n"
     ]
    }
   ],
   "source": [
    "class Stack:\n",
    "    def __init__(self):\n",
    "        self.items = []\n",
    "\n",
    "    def is_empty(self):\n",
    "        return len(self.items) == 0\n",
    "\n",
    "    def push(self, item):\n",
    "        self.items.append(item)\n",
    "\n",
    "    def pop(self):\n",
    "        if not self.is_empty():\n",
    "            return self.items.pop()\n",
    "\n",
    "    def peek(self):\n",
    "        if not self.is_empty():\n",
    "            return self.items[-1]\n",
    "\n",
    "    def size(self):\n",
    "        return len(self.items)\n",
    "\n",
    "\n",
    "def reverse_stack(stack):\n",
    "    aux_stack = Stack()\n",
    "\n",
    "    while not stack.is_empty():\n",
    "        item = stack.pop()\n",
    "        aux_stack.push(item)\n",
    "\n",
    "    return aux_stack\n",
    "\n",
    "\n",
    "if __name__ == \"__main__\":\n",
    "    original_stack = Stack()\n",
    "\n",
    "\n",
    "    user_input = input(\"Enter elements for the stack (space-separated): \").split()\n",
    "\n",
    "\n",
    "    for item in user_input:\n",
    "        original_stack.push(int(item))\n",
    "\n",
    "    print(\"Original Stack:\", original_stack.items)\n",
    "\n",
    "    reversed_stack = reverse_stack(original_stack)\n",
    "\n",
    "    print(\"Reversed Stack:\", reversed_stack.items)\n"
   ]
  },
  {
   "cell_type": "markdown",
   "id": "be119d63",
   "metadata": {},
   "source": [
    "Q10. Write a program to find the smallest number using a stack."
   ]
  },
  {
   "cell_type": "code",
   "execution_count": 22,
   "id": "cca516ca",
   "metadata": {},
   "outputs": [
    {
     "name": "stdout",
     "output_type": "stream",
     "text": [
      "Enter the numbers:22,10,67,94,35\n",
      "Smallest number: 10\n"
     ]
    }
   ],
   "source": [
    "class StackMin:\n",
    "    def __init__(self):\n",
    "        self.stack = []\n",
    "        self.min_stack = []\n",
    "    def push(self,item):\n",
    "        self.stack.append(item)\n",
    "        if not self.min_stack or item<=self.min_stack[-1]:\n",
    "            self.min_stack.append(item)\n",
    "    def pop(self):\n",
    "        if self.stack:\n",
    "            if self.stack[-1] == self.min_stack[-1]:\n",
    "                self.min_stack.pop()\n",
    "            return self.stack.pop()\n",
    "    def get_min(self):\n",
    "        if self.min_stack:\n",
    "            return self.min_stack[-1]\n",
    "        else:\n",
    "            return None\n",
    "stack = StackMin()\n",
    "\n",
    "u_input = input(\"Enter the numbers:\")\n",
    "numbers = [int(num.strip())for num in u_input.split(',')]\n",
    "for num in numbers:\n",
    "    stack.push(num)\n",
    "if len(stack.stack)>0:\n",
    "    print(\"Smallest number:\",stack.get_min())\n",
    "else:\n",
    "    print(\"Invalid number enter a new number\")"
   ]
  }
 ],
 "metadata": {
  "kernelspec": {
   "display_name": "Python 3 (ipykernel)",
   "language": "python",
   "name": "python3"
  },
  "language_info": {
   "codemirror_mode": {
    "name": "ipython",
    "version": 3
   },
   "file_extension": ".py",
   "mimetype": "text/x-python",
   "name": "python",
   "nbconvert_exporter": "python",
   "pygments_lexer": "ipython3",
   "version": "3.10.9"
  }
 },
 "nbformat": 4,
 "nbformat_minor": 5
}
